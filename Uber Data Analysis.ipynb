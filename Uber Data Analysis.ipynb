{
 "cells": [
  {
   "cell_type": "code",
   "execution_count": 18,
   "id": "3ba6310c",
   "metadata": {},
   "outputs": [],
   "source": [
    "import pandas as pd\n",
    "import numpy as np\n",
    "import seaborn as sns\n",
    "import matplotlib.pyplot as plt\n",
    "%matplotlib inline"
   ]
  },
  {
   "cell_type": "code",
   "execution_count": 24,
   "id": "8d87bdbd",
   "metadata": {},
   "outputs": [],
   "source": [
    "uber=pd.read_csv(\"C://Users//User//Downloads//Uber-dataset//Uber-dataset//uber-raw-data-apr14.csv.zip\")"
   ]
  },
  {
   "cell_type": "code",
   "execution_count": 25,
   "id": "3bde132e",
   "metadata": {},
   "outputs": [
    {
     "data": {
      "text/html": [
       "<div>\n",
       "<style scoped>\n",
       "    .dataframe tbody tr th:only-of-type {\n",
       "        vertical-align: middle;\n",
       "    }\n",
       "\n",
       "    .dataframe tbody tr th {\n",
       "        vertical-align: top;\n",
       "    }\n",
       "\n",
       "    .dataframe thead th {\n",
       "        text-align: right;\n",
       "    }\n",
       "</style>\n",
       "<table border=\"1\" class=\"dataframe\">\n",
       "  <thead>\n",
       "    <tr style=\"text-align: right;\">\n",
       "      <th></th>\n",
       "      <th>Date/Time</th>\n",
       "      <th>Lat</th>\n",
       "      <th>Lon</th>\n",
       "      <th>Base</th>\n",
       "    </tr>\n",
       "  </thead>\n",
       "  <tbody>\n",
       "    <tr>\n",
       "      <th>0</th>\n",
       "      <td>4/1/2014 0:11:00</td>\n",
       "      <td>40.7690</td>\n",
       "      <td>-73.9549</td>\n",
       "      <td>B02512</td>\n",
       "    </tr>\n",
       "    <tr>\n",
       "      <th>1</th>\n",
       "      <td>4/1/2014 0:17:00</td>\n",
       "      <td>40.7267</td>\n",
       "      <td>-74.0345</td>\n",
       "      <td>B02512</td>\n",
       "    </tr>\n",
       "    <tr>\n",
       "      <th>2</th>\n",
       "      <td>4/1/2014 0:21:00</td>\n",
       "      <td>40.7316</td>\n",
       "      <td>-73.9873</td>\n",
       "      <td>B02512</td>\n",
       "    </tr>\n",
       "    <tr>\n",
       "      <th>3</th>\n",
       "      <td>4/1/2014 0:28:00</td>\n",
       "      <td>40.7588</td>\n",
       "      <td>-73.9776</td>\n",
       "      <td>B02512</td>\n",
       "    </tr>\n",
       "    <tr>\n",
       "      <th>4</th>\n",
       "      <td>4/1/2014 0:33:00</td>\n",
       "      <td>40.7594</td>\n",
       "      <td>-73.9722</td>\n",
       "      <td>B02512</td>\n",
       "    </tr>\n",
       "  </tbody>\n",
       "</table>\n",
       "</div>"
      ],
      "text/plain": [
       "          Date/Time      Lat      Lon    Base\n",
       "0  4/1/2014 0:11:00  40.7690 -73.9549  B02512\n",
       "1  4/1/2014 0:17:00  40.7267 -74.0345  B02512\n",
       "2  4/1/2014 0:21:00  40.7316 -73.9873  B02512\n",
       "3  4/1/2014 0:28:00  40.7588 -73.9776  B02512\n",
       "4  4/1/2014 0:33:00  40.7594 -73.9722  B02512"
      ]
     },
     "execution_count": 25,
     "metadata": {},
     "output_type": "execute_result"
    }
   ],
   "source": [
    "uber.head()"
   ]
  },
  {
   "cell_type": "code",
   "execution_count": 26,
   "id": "ffac457a",
   "metadata": {},
   "outputs": [
    {
     "name": "stdout",
     "output_type": "stream",
     "text": [
      "<class 'pandas.core.frame.DataFrame'>\n",
      "RangeIndex: 564516 entries, 0 to 564515\n",
      "Data columns (total 4 columns):\n",
      " #   Column     Non-Null Count   Dtype  \n",
      "---  ------     --------------   -----  \n",
      " 0   Date/Time  564516 non-null  object \n",
      " 1   Lat        564516 non-null  float64\n",
      " 2   Lon        564516 non-null  float64\n",
      " 3   Base       564516 non-null  object \n",
      "dtypes: float64(2), object(2)\n",
      "memory usage: 17.2+ MB\n"
     ]
    }
   ],
   "source": [
    "uber.info()"
   ]
  },
  {
   "cell_type": "code",
   "execution_count": 29,
   "id": "bfa84a9a",
   "metadata": {},
   "outputs": [
    {
     "name": "stdout",
     "output_type": "stream",
     "text": [
      "Number of missing/null values per column\n",
      "Date/Time    0\n",
      "Lat          0\n",
      "Lon          0\n",
      "Base         0\n",
      "dtype: int64\n"
     ]
    }
   ],
   "source": [
    "#Check if there any mising values\n",
    "\n",
    "def num_missing(x):\n",
    "    return sum(x.isnull())\n",
    "print('Number of missing/null values per column')\n",
    "print(uber.apply(num_missing,axis=0))"
   ]
  },
  {
   "cell_type": "code",
   "execution_count": 30,
   "id": "6120d763",
   "metadata": {},
   "outputs": [
    {
     "data": {
      "text/plain": [
       "Date/Time    0\n",
       "Lat          0\n",
       "Lon          0\n",
       "Base         0\n",
       "dtype: int64"
      ]
     },
     "execution_count": 30,
     "metadata": {},
     "output_type": "execute_result"
    }
   ],
   "source": [
    "uber.isna().sum()  #Alternative"
   ]
  },
  {
   "cell_type": "code",
   "execution_count": 54,
   "id": "603f5bc5",
   "metadata": {},
   "outputs": [],
   "source": [
    "#Extract additional information\n",
    "\n",
    "uber['Date/Time']=pd.to_datetime(uber['Date/Time'],format=\"%m/%d/%Y %H:%M:%S\")\n",
    "uber['DayoftheWeekNum']=uber['Date/Time'].dt.dayofweek\n",
    "uber['DayOfWeek']=uber['Date/Time'].dt.day_name()\n",
    "uber['DayNum']=uber['Date/Time'].dt.day\n",
    "uber['HourOfDay']=uber['Date/Time'].dt.hour"
   ]
  },
  {
   "cell_type": "code",
   "execution_count": 55,
   "id": "d1dd0495",
   "metadata": {},
   "outputs": [
    {
     "data": {
      "text/html": [
       "<div>\n",
       "<style scoped>\n",
       "    .dataframe tbody tr th:only-of-type {\n",
       "        vertical-align: middle;\n",
       "    }\n",
       "\n",
       "    .dataframe tbody tr th {\n",
       "        vertical-align: top;\n",
       "    }\n",
       "\n",
       "    .dataframe thead th {\n",
       "        text-align: right;\n",
       "    }\n",
       "</style>\n",
       "<table border=\"1\" class=\"dataframe\">\n",
       "  <thead>\n",
       "    <tr style=\"text-align: right;\">\n",
       "      <th></th>\n",
       "      <th>Date/Time</th>\n",
       "      <th>Lat</th>\n",
       "      <th>Lon</th>\n",
       "      <th>Base</th>\n",
       "      <th>DayoftheWeekNum</th>\n",
       "      <th>DayOfWeek</th>\n",
       "      <th>DayNum</th>\n",
       "      <th>HourOfDay</th>\n",
       "    </tr>\n",
       "  </thead>\n",
       "  <tbody>\n",
       "    <tr>\n",
       "      <th>0</th>\n",
       "      <td>2014-04-01 00:11:00</td>\n",
       "      <td>40.7690</td>\n",
       "      <td>-73.9549</td>\n",
       "      <td>B02512</td>\n",
       "      <td>1</td>\n",
       "      <td>Tuesday</td>\n",
       "      <td>1</td>\n",
       "      <td>0</td>\n",
       "    </tr>\n",
       "    <tr>\n",
       "      <th>1</th>\n",
       "      <td>2014-04-01 00:17:00</td>\n",
       "      <td>40.7267</td>\n",
       "      <td>-74.0345</td>\n",
       "      <td>B02512</td>\n",
       "      <td>1</td>\n",
       "      <td>Tuesday</td>\n",
       "      <td>1</td>\n",
       "      <td>0</td>\n",
       "    </tr>\n",
       "    <tr>\n",
       "      <th>2</th>\n",
       "      <td>2014-04-01 00:21:00</td>\n",
       "      <td>40.7316</td>\n",
       "      <td>-73.9873</td>\n",
       "      <td>B02512</td>\n",
       "      <td>1</td>\n",
       "      <td>Tuesday</td>\n",
       "      <td>1</td>\n",
       "      <td>0</td>\n",
       "    </tr>\n",
       "    <tr>\n",
       "      <th>3</th>\n",
       "      <td>2014-04-01 00:28:00</td>\n",
       "      <td>40.7588</td>\n",
       "      <td>-73.9776</td>\n",
       "      <td>B02512</td>\n",
       "      <td>1</td>\n",
       "      <td>Tuesday</td>\n",
       "      <td>1</td>\n",
       "      <td>0</td>\n",
       "    </tr>\n",
       "    <tr>\n",
       "      <th>4</th>\n",
       "      <td>2014-04-01 00:33:00</td>\n",
       "      <td>40.7594</td>\n",
       "      <td>-73.9722</td>\n",
       "      <td>B02512</td>\n",
       "      <td>1</td>\n",
       "      <td>Tuesday</td>\n",
       "      <td>1</td>\n",
       "      <td>0</td>\n",
       "    </tr>\n",
       "  </tbody>\n",
       "</table>\n",
       "</div>"
      ],
      "text/plain": [
       "            Date/Time      Lat      Lon    Base  DayoftheWeekNum DayOfWeek  \\\n",
       "0 2014-04-01 00:11:00  40.7690 -73.9549  B02512                1   Tuesday   \n",
       "1 2014-04-01 00:17:00  40.7267 -74.0345  B02512                1   Tuesday   \n",
       "2 2014-04-01 00:21:00  40.7316 -73.9873  B02512                1   Tuesday   \n",
       "3 2014-04-01 00:28:00  40.7588 -73.9776  B02512                1   Tuesday   \n",
       "4 2014-04-01 00:33:00  40.7594 -73.9722  B02512                1   Tuesday   \n",
       "\n",
       "   DayNum  HourOfDay  \n",
       "0       1          0  \n",
       "1       1          0  \n",
       "2       1          0  \n",
       "3       1          0  \n",
       "4       1          0  "
      ]
     },
     "execution_count": 55,
     "metadata": {},
     "output_type": "execute_result"
    }
   ],
   "source": [
    "uber.head()"
   ]
  },
  {
   "cell_type": "code",
   "execution_count": 57,
   "id": "c19a270c",
   "metadata": {},
   "outputs": [
    {
     "data": {
      "text/plain": [
       "(564516, 8)"
      ]
     },
     "execution_count": 57,
     "metadata": {},
     "output_type": "execute_result"
    }
   ],
   "source": [
    "#Display the shape\n",
    "uber.shape"
   ]
  },
  {
   "cell_type": "code",
   "execution_count": 58,
   "id": "963f6ab4",
   "metadata": {},
   "outputs": [
    {
     "data": {
      "text/plain": [
       "array(['B02512', 'B02598', 'B02617', 'B02682', 'B02764'], dtype=object)"
      ]
     },
     "execution_count": 58,
     "metadata": {},
     "output_type": "execute_result"
    }
   ],
   "source": [
    "#Unique base codes\n",
    "\n",
    "uber['Base'].unique()"
   ]
  },
  {
   "cell_type": "code",
   "execution_count": 59,
   "id": "1c0fc3bd",
   "metadata": {},
   "outputs": [
    {
     "data": {
      "text/plain": [
       "<seaborn.axisgrid.FacetGrid at 0x19bbe5ffaf0>"
      ]
     },
     "execution_count": 59,
     "metadata": {},
     "output_type": "execute_result"
    },
    {
     "data": {
      "image/png": "[encoded data removed]",
      "text/plain": [
       "<Figure size 500x500 with 1 Axes>"
      ]
     },
     "metadata": {},
     "output_type": "display_data"
    }
   ],
   "source": [
    "#Total rides based on the base code\n",
    "\n",
    "sns.catplot(x='Base', data=uber, kind='count')"
   ]
  },
  {
   "cell_type": "code",
   "execution_count": 62,
   "id": "e71bf077",
   "metadata": {},
   "outputs": [
    {
     "data": {
      "text/html": [
       "<div>\n",
       "<style scoped>\n",
       "    .dataframe tbody tr th:only-of-type {\n",
       "        vertical-align: middle;\n",
       "    }\n",
       "\n",
       "    .dataframe tbody tr th {\n",
       "        vertical-align: top;\n",
       "    }\n",
       "\n",
       "    .dataframe thead th {\n",
       "        text-align: right;\n",
       "    }\n",
       "</style>\n",
       "<table border=\"1\" class=\"dataframe\">\n",
       "  <thead>\n",
       "    <tr style=\"text-align: right;\">\n",
       "      <th></th>\n",
       "      <th></th>\n",
       "      <th>Base</th>\n",
       "    </tr>\n",
       "    <tr>\n",
       "      <th>DayoftheWeekNum</th>\n",
       "      <th>DayOfWeek</th>\n",
       "      <th></th>\n",
       "    </tr>\n",
       "  </thead>\n",
       "  <tbody>\n",
       "    <tr>\n",
       "      <th>0</th>\n",
       "      <th>Monday</th>\n",
       "      <td>60861</td>\n",
       "    </tr>\n",
       "    <tr>\n",
       "      <th>1</th>\n",
       "      <th>Tuesday</th>\n",
       "      <td>91185</td>\n",
       "    </tr>\n",
       "    <tr>\n",
       "      <th>2</th>\n",
       "      <th>Wednesday</th>\n",
       "      <td>108631</td>\n",
       "    </tr>\n",
       "    <tr>\n",
       "      <th>3</th>\n",
       "      <th>Thursday</th>\n",
       "      <td>85067</td>\n",
       "    </tr>\n",
       "    <tr>\n",
       "      <th>4</th>\n",
       "      <th>Friday</th>\n",
       "      <td>90303</td>\n",
       "    </tr>\n",
       "    <tr>\n",
       "      <th>5</th>\n",
       "      <th>Saturday</th>\n",
       "      <td>77218</td>\n",
       "    </tr>\n",
       "    <tr>\n",
       "      <th>6</th>\n",
       "      <th>Sunday</th>\n",
       "      <td>51251</td>\n",
       "    </tr>\n",
       "  </tbody>\n",
       "</table>\n",
       "</div>"
      ],
      "text/plain": [
       "                             Base\n",
       "DayoftheWeekNum DayOfWeek        \n",
       "0               Monday      60861\n",
       "1               Tuesday     91185\n",
       "2               Wednesday  108631\n",
       "3               Thursday    85067\n",
       "4               Friday      90303\n",
       "5               Saturday    77218\n",
       "6               Sunday      51251"
      ]
     },
     "execution_count": 62,
     "metadata": {},
     "output_type": "execute_result"
    }
   ],
   "source": [
    "uber_week_data= uber.pivot_table(index=['DayoftheWeekNum','DayOfWeek'], values='Base',aggfunc='count')\n",
    "uber_week_data"
   ]
  },
  {
   "cell_type": "code",
   "execution_count": 65,
   "id": "21c144fe",
   "metadata": {},
   "outputs": [
    {
     "data": {
      "text/plain": [
       "<AxesSubplot:xlabel='DayoftheWeekNum,DayOfWeek'>"
      ]
     },
     "execution_count": 65,
     "metadata": {},
     "output_type": "execute_result"
    },
    {
     "data": {
      "image/png": "[encoded data removed]",
      "text/plain": [
       "<Figure size 800x600 with 1 Axes>"
      ]
     },
     "metadata": {},
     "output_type": "display_data"
    }
   ],
   "source": [
    "#Visualize the pivot table\n",
    "\n",
    "uber_week_data.plot(kind='bar', figsize=(8,6))"
   ]
  },
  {
   "cell_type": "code",
   "execution_count": 66,
   "id": "a61eb077",
   "metadata": {},
   "outputs": [
    {
     "data": {
      "text/plain": [
       "<AxesSubplot:title={'center':'Hourly Journeys'}, xlabel='HourOfDay'>"
      ]
     },
     "execution_count": 66,
     "metadata": {},
     "output_type": "execute_result"
    },
    {
     "data": {
      "image/png": "[encoded data removed]",
      "text/plain": [
       "<Figure size 1000x600 with 1 Axes>"
      ]
     },
     "metadata": {},
     "output_type": "display_data"
    }
   ],
   "source": [
    "uber_hourly_data=uber.pivot_table(index=['HourOfDay'], values='Base', aggfunc='count')\n",
    "uber_hourly_data.plot(kind='line', figsize=(10,6),  title='Hourly Journeys')"
   ]
  },
  {
   "cell_type": "code",
   "execution_count": 73,
   "id": "9d95a743",
   "metadata": {},
   "outputs": [
    {
     "data": {
      "text/plain": [
       "<AxesSubplot:title={'center':'Journeys by DayNum'}, xlabel='DayNum'>"
      ]
     },
     "execution_count": 73,
     "metadata": {},
     "output_type": "execute_result"
    },
    {
     "data": {
      "image/png": "[encoded data removed]",
      "text/plain": [
       "<Figure size 1000x500 with 1 Axes>"
      ]
     },
     "metadata": {},
     "output_type": "display_data"
    }
   ],
   "source": [
    "uber_day_data=uber.pivot_table(index=['DayNum'], values='Base', aggfunc='count')\n",
    "uber_day_data.plot(kind='bar', figsize=(10,5), title='Journeys by DayNum')"
   ]
  },
  {
   "cell_type": "code",
   "execution_count": 75,
   "id": "394074bc",
   "metadata": {},
   "outputs": [
    {
     "data": {
      "text/plain": [
       "DayNum\n",
       "1     14546\n",
       "2     17474\n",
       "3     20701\n",
       "4     26714\n",
       "5     19521\n",
       "6     13445\n",
       "7     19550\n",
       "8     16188\n",
       "9     16843\n",
       "10    20041\n",
       "11    20420\n",
       "12    18170\n",
       "13    12112\n",
       "14    12674\n",
       "15    20641\n",
       "16    17717\n",
       "17    20973\n",
       "18    18074\n",
       "19    14602\n",
       "20    11017\n",
       "21    13162\n",
       "22    16975\n",
       "23    20346\n",
       "24    23352\n",
       "25    25095\n",
       "26    24925\n",
       "27    14677\n",
       "28    15475\n",
       "29    22835\n",
       "30    36251\n",
       "dtype: int64"
      ]
     },
     "execution_count": 75,
     "metadata": {},
     "output_type": "execute_result"
    }
   ],
   "source": [
    "def count_rows(rows):\n",
    "    return len(rows)\n",
    "\n",
    "by_date =uber.groupby('DayNum').apply(count_rows)\n",
    "by_date"
   ]
  },
  {
   "cell_type": "code",
   "execution_count": 76,
   "id": "f57ae5d7",
   "metadata": {},
   "outputs": [
    {
     "data": {
      "text/plain": [
       "DayNum\n",
       "20    11017\n",
       "13    12112\n",
       "14    12674\n",
       "21    13162\n",
       "6     13445\n",
       "1     14546\n",
       "19    14602\n",
       "27    14677\n",
       "28    15475\n",
       "8     16188\n",
       "9     16843\n",
       "22    16975\n",
       "2     17474\n",
       "16    17717\n",
       "18    18074\n",
       "12    18170\n",
       "5     19521\n",
       "7     19550\n",
       "10    20041\n",
       "23    20346\n",
       "11    20420\n",
       "15    20641\n",
       "3     20701\n",
       "17    20973\n",
       "29    22835\n",
       "24    23352\n",
       "26    24925\n",
       "25    25095\n",
       "4     26714\n",
       "30    36251\n",
       "dtype: int64"
      ]
     },
     "execution_count": 76,
     "metadata": {},
     "output_type": "execute_result"
    }
   ],
   "source": [
    "#Sort Day of the month by values rather than date\n",
    "\n",
    "by_date_sorted=by_date.sort_values()\n",
    "by_date_sorted"
   ]
  },
  {
   "cell_type": "code",
   "execution_count": 79,
   "id": "3f37bf9a",
   "metadata": {},
   "outputs": [
    {
     "data": {
      "text/plain": [
       "<AxesSubplot:ylabel='Frequency'>"
      ]
     },
     "execution_count": 79,
     "metadata": {},
     "output_type": "execute_result"
    },
    {
     "data": {
      "image/png": "[encoded data removed]",
      "text/plain": [
       "<Figure size 640x480 with 1 Axes>"
      ]
     },
     "metadata": {},
     "output_type": "display_data"
    }
   ],
   "source": [
    "#Analyze the hours\n",
    "\n",
    "uber.HourOfDay.plot(kind='hist', bins=24, range=(.5,24))"
   ]
  },
  {
   "cell_type": "code",
   "execution_count": 85,
   "id": "6f8dd0d4",
   "metadata": {},
   "outputs": [
    {
     "data": {
      "text/html": [
       "<div>\n",
       "<style scoped>\n",
       "    .dataframe tbody tr th:only-of-type {\n",
       "        vertical-align: middle;\n",
       "    }\n",
       "\n",
       "    .dataframe tbody tr th {\n",
       "        vertical-align: top;\n",
       "    }\n",
       "\n",
       "    .dataframe thead th {\n",
       "        text-align: right;\n",
       "    }\n",
       "</style>\n",
       "<table border=\"1\" class=\"dataframe\">\n",
       "  <thead>\n",
       "    <tr style=\"text-align: right;\">\n",
       "      <th>DayoftheWeekNum</th>\n",
       "      <th>0</th>\n",
       "      <th>1</th>\n",
       "      <th>2</th>\n",
       "      <th>3</th>\n",
       "      <th>4</th>\n",
       "      <th>5</th>\n",
       "      <th>6</th>\n",
       "    </tr>\n",
       "    <tr>\n",
       "      <th>HourOfDay</th>\n",
       "      <th></th>\n",
       "      <th></th>\n",
       "      <th></th>\n",
       "      <th></th>\n",
       "      <th></th>\n",
       "      <th></th>\n",
       "      <th></th>\n",
       "    </tr>\n",
       "  </thead>\n",
       "  <tbody>\n",
       "    <tr>\n",
       "      <th>0</th>\n",
       "      <td>518</td>\n",
       "      <td>765</td>\n",
       "      <td>899</td>\n",
       "      <td>792</td>\n",
       "      <td>1367</td>\n",
       "      <td>3027</td>\n",
       "      <td>4542</td>\n",
       "    </tr>\n",
       "    <tr>\n",
       "      <th>1</th>\n",
       "      <td>261</td>\n",
       "      <td>367</td>\n",
       "      <td>507</td>\n",
       "      <td>459</td>\n",
       "      <td>760</td>\n",
       "      <td>2479</td>\n",
       "      <td>2936</td>\n",
       "    </tr>\n",
       "    <tr>\n",
       "      <th>2</th>\n",
       "      <td>238</td>\n",
       "      <td>304</td>\n",
       "      <td>371</td>\n",
       "      <td>342</td>\n",
       "      <td>513</td>\n",
       "      <td>1577</td>\n",
       "      <td>1590</td>\n",
       "    </tr>\n",
       "    <tr>\n",
       "      <th>3</th>\n",
       "      <td>571</td>\n",
       "      <td>516</td>\n",
       "      <td>585</td>\n",
       "      <td>567</td>\n",
       "      <td>736</td>\n",
       "      <td>1013</td>\n",
       "      <td>1052</td>\n",
       "    </tr>\n",
       "    <tr>\n",
       "      <th>4</th>\n",
       "      <td>1021</td>\n",
       "      <td>887</td>\n",
       "      <td>1003</td>\n",
       "      <td>861</td>\n",
       "      <td>932</td>\n",
       "      <td>706</td>\n",
       "      <td>685</td>\n",
       "    </tr>\n",
       "    <tr>\n",
       "      <th>5</th>\n",
       "      <td>1619</td>\n",
       "      <td>1734</td>\n",
       "      <td>1990</td>\n",
       "      <td>1454</td>\n",
       "      <td>1382</td>\n",
       "      <td>704</td>\n",
       "      <td>593</td>\n",
       "    </tr>\n",
       "    <tr>\n",
       "      <th>6</th>\n",
       "      <td>2974</td>\n",
       "      <td>3766</td>\n",
       "      <td>4230</td>\n",
       "      <td>3179</td>\n",
       "      <td>2836</td>\n",
       "      <td>844</td>\n",
       "      <td>669</td>\n",
       "    </tr>\n",
       "    <tr>\n",
       "      <th>7</th>\n",
       "      <td>3888</td>\n",
       "      <td>5304</td>\n",
       "      <td>5647</td>\n",
       "      <td>4159</td>\n",
       "      <td>3943</td>\n",
       "      <td>1110</td>\n",
       "      <td>873</td>\n",
       "    </tr>\n",
       "    <tr>\n",
       "      <th>8</th>\n",
       "      <td>3138</td>\n",
       "      <td>4594</td>\n",
       "      <td>5242</td>\n",
       "      <td>3616</td>\n",
       "      <td>3648</td>\n",
       "      <td>1372</td>\n",
       "      <td>1233</td>\n",
       "    </tr>\n",
       "    <tr>\n",
       "      <th>9</th>\n",
       "      <td>2211</td>\n",
       "      <td>2962</td>\n",
       "      <td>3846</td>\n",
       "      <td>2654</td>\n",
       "      <td>2732</td>\n",
       "      <td>1764</td>\n",
       "      <td>1770</td>\n",
       "    </tr>\n",
       "    <tr>\n",
       "      <th>10</th>\n",
       "      <td>1953</td>\n",
       "      <td>2900</td>\n",
       "      <td>3844</td>\n",
       "      <td>2370</td>\n",
       "      <td>2599</td>\n",
       "      <td>2086</td>\n",
       "      <td>2113</td>\n",
       "    </tr>\n",
       "    <tr>\n",
       "      <th>11</th>\n",
       "      <td>1929</td>\n",
       "      <td>2949</td>\n",
       "      <td>3889</td>\n",
       "      <td>2516</td>\n",
       "      <td>2816</td>\n",
       "      <td>2315</td>\n",
       "      <td>2360</td>\n",
       "    </tr>\n",
       "    <tr>\n",
       "      <th>12</th>\n",
       "      <td>1945</td>\n",
       "      <td>2819</td>\n",
       "      <td>3988</td>\n",
       "      <td>2657</td>\n",
       "      <td>2978</td>\n",
       "      <td>2560</td>\n",
       "      <td>2478</td>\n",
       "    </tr>\n",
       "    <tr>\n",
       "      <th>13</th>\n",
       "      <td>2294</td>\n",
       "      <td>3556</td>\n",
       "      <td>4469</td>\n",
       "      <td>3301</td>\n",
       "      <td>3535</td>\n",
       "      <td>2685</td>\n",
       "      <td>2763</td>\n",
       "    </tr>\n",
       "    <tr>\n",
       "      <th>14</th>\n",
       "      <td>3117</td>\n",
       "      <td>4489</td>\n",
       "      <td>5438</td>\n",
       "      <td>4083</td>\n",
       "      <td>4087</td>\n",
       "      <td>3042</td>\n",
       "      <td>2934</td>\n",
       "    </tr>\n",
       "    <tr>\n",
       "      <th>15</th>\n",
       "      <td>3818</td>\n",
       "      <td>6042</td>\n",
       "      <td>7071</td>\n",
       "      <td>5182</td>\n",
       "      <td>5354</td>\n",
       "      <td>4457</td>\n",
       "      <td>3400</td>\n",
       "    </tr>\n",
       "    <tr>\n",
       "      <th>16</th>\n",
       "      <td>4962</td>\n",
       "      <td>7521</td>\n",
       "      <td>8213</td>\n",
       "      <td>6149</td>\n",
       "      <td>6259</td>\n",
       "      <td>5410</td>\n",
       "      <td>3489</td>\n",
       "    </tr>\n",
       "    <tr>\n",
       "      <th>17</th>\n",
       "      <td>5574</td>\n",
       "      <td>8297</td>\n",
       "      <td>9151</td>\n",
       "      <td>6951</td>\n",
       "      <td>6790</td>\n",
       "      <td>5558</td>\n",
       "      <td>3154</td>\n",
       "    </tr>\n",
       "    <tr>\n",
       "      <th>18</th>\n",
       "      <td>4725</td>\n",
       "      <td>7089</td>\n",
       "      <td>8334</td>\n",
       "      <td>6637</td>\n",
       "      <td>7258</td>\n",
       "      <td>6165</td>\n",
       "      <td>2795</td>\n",
       "    </tr>\n",
       "    <tr>\n",
       "      <th>19</th>\n",
       "      <td>4386</td>\n",
       "      <td>6459</td>\n",
       "      <td>7794</td>\n",
       "      <td>5929</td>\n",
       "      <td>6247</td>\n",
       "      <td>5529</td>\n",
       "      <td>2579</td>\n",
       "    </tr>\n",
       "    <tr>\n",
       "      <th>20</th>\n",
       "      <td>3573</td>\n",
       "      <td>6310</td>\n",
       "      <td>7783</td>\n",
       "      <td>6345</td>\n",
       "      <td>5165</td>\n",
       "      <td>4792</td>\n",
       "      <td>2276</td>\n",
       "    </tr>\n",
       "    <tr>\n",
       "      <th>21</th>\n",
       "      <td>3079</td>\n",
       "      <td>5993</td>\n",
       "      <td>6921</td>\n",
       "      <td>6585</td>\n",
       "      <td>6265</td>\n",
       "      <td>5811</td>\n",
       "      <td>2310</td>\n",
       "    </tr>\n",
       "    <tr>\n",
       "      <th>22</th>\n",
       "      <td>1976</td>\n",
       "      <td>3614</td>\n",
       "      <td>4845</td>\n",
       "      <td>5370</td>\n",
       "      <td>6708</td>\n",
       "      <td>6493</td>\n",
       "      <td>1639</td>\n",
       "    </tr>\n",
       "    <tr>\n",
       "      <th>23</th>\n",
       "      <td>1091</td>\n",
       "      <td>1948</td>\n",
       "      <td>2571</td>\n",
       "      <td>2909</td>\n",
       "      <td>5393</td>\n",
       "      <td>5719</td>\n",
       "      <td>1018</td>\n",
       "    </tr>\n",
       "  </tbody>\n",
       "</table>\n",
       "</div>"
      ],
      "text/plain": [
       "DayoftheWeekNum     0     1     2     3     4     5     6\n",
       "HourOfDay                                                \n",
       "0                 518   765   899   792  1367  3027  4542\n",
       "1                 261   367   507   459   760  2479  2936\n",
       "2                 238   304   371   342   513  1577  1590\n",
       "3                 571   516   585   567   736  1013  1052\n",
       "4                1021   887  1003   861   932   706   685\n",
       "5                1619  1734  1990  1454  1382   704   593\n",
       "6                2974  3766  4230  3179  2836   844   669\n",
       "7                3888  5304  5647  4159  3943  1110   873\n",
       "8                3138  4594  5242  3616  3648  1372  1233\n",
       "9                2211  2962  3846  2654  2732  1764  1770\n",
       "10               1953  2900  3844  2370  2599  2086  2113\n",
       "11               1929  2949  3889  2516  2816  2315  2360\n",
       "12               1945  2819  3988  2657  2978  2560  2478\n",
       "13               2294  3556  4469  3301  3535  2685  2763\n",
       "14               3117  4489  5438  4083  4087  3042  2934\n",
       "15               3818  6042  7071  5182  5354  4457  3400\n",
       "16               4962  7521  8213  6149  6259  5410  3489\n",
       "17               5574  8297  9151  6951  6790  5558  3154\n",
       "18               4725  7089  8334  6637  7258  6165  2795\n",
       "19               4386  6459  7794  5929  6247  5529  2579\n",
       "20               3573  6310  7783  6345  5165  4792  2276\n",
       "21               3079  5993  6921  6585  6265  5811  2310\n",
       "22               1976  3614  4845  5370  6708  6493  1639\n",
       "23               1091  1948  2571  2909  5393  5719  1018"
      ]
     },
     "execution_count": 85,
     "metadata": {},
     "output_type": "execute_result"
    }
   ],
   "source": [
    "count_rows(uber)\n",
    "by_hour_weekday = uber.groupby('HourOfDay DayoftheWeekNum'.split()).apply(count_rows).unstack()\n",
    "by_hour_weekday"
   ]
  },
  {
   "cell_type": "code",
   "execution_count": 88,
   "id": "8d0f24b1",
   "metadata": {},
   "outputs": [
    {
     "data": {
      "text/plain": [
       "<AxesSubplot:xlabel='DayoftheWeekNum', ylabel='HourOfDay'>"
      ]
     },
     "execution_count": 88,
     "metadata": {},
     "output_type": "execute_result"
    },
    {
     "data": {
      "image/png": "[encoded data removed]",
      "text/plain": [
       "<Figure size 1500x1000 with 2 Axes>"
      ]
     },
     "metadata": {},
     "output_type": "display_data"
    }
   ],
   "source": [
    "#Heat maps: the brightest spot shows the day/hour with the highest frequency\n",
    "plt.figure(figsize=(15,10))\n",
    "sns.heatmap(by_hour_weekday)"
   ]
  },
  {
   "cell_type": "code",
   "execution_count": null,
   "id": "1ec9633d",
   "metadata": {},
   "outputs": [],
   "source": []
  }
 ],
 "metadata": {
  "kernelspec": {
   "display_name": "Python 3 (ipykernel)",
   "language": "python",
   "name": "python3"
  },
  "language_info": {
   "codemirror_mode": {
    "name": "ipython",
    "version": 3
   },
   "file_extension": ".py",
   "mimetype": "text/x-python",
   "name": "python",
   "nbconvert_exporter": "python",
   "pygments_lexer": "ipython3",
   "version": "3.9.13"
  }
 },
 "nbformat": 4,
 "nbformat_minor": 5
}
